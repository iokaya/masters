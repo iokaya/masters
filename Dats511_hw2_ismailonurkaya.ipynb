{
  "nbformat": 4,
  "nbformat_minor": 0,
  "metadata": {
    "colab": {
      "name": "Dats511_hw2_ismailonurkaya.ipynb",
      "provenance": [],
      "collapsed_sections": [],
      "authorship_tag": "ABX9TyMKTcUIDLvgYvEuYh72KmH5",
      "include_colab_link": true
    },
    "kernelspec": {
      "name": "python3",
      "display_name": "Python 3"
    }
  },
  "cells": [
    {
      "cell_type": "markdown",
      "metadata": {
        "id": "view-in-github",
        "colab_type": "text"
      },
      "source": [
        "<a href=\"https://colab.research.google.com/github/iokaya/masters/blob/main/Dats511_hw2_ismailonurkaya.ipynb\" target=\"_parent\"><img src=\"https://colab.research.google.com/assets/colab-badge.svg\" alt=\"Open In Colab\"/></a>"
      ]
    },
    {
      "cell_type": "markdown",
      "metadata": {
        "id": "cjrM3MvFGeWZ"
      },
      "source": [
        "# Dats 511 HW 2 Due 08.12.2020\n",
        "## Student: İsmail Onur Kaya\n",
        "### HW Gauss1: Repeat the same procedure  (gaussianlinear2 analysis for just height)\n",
        "### a) for females above 18\n",
        "### b) for males above 18"
      ]
    },
    {
      "cell_type": "markdown",
      "metadata": {
        "id": "deRyYToWG9BZ"
      },
      "source": [
        "## Part a\n",
        "### For females above 18\n",
        "---"
      ]
    }
  ]
}